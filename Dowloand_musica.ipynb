{
 "cells": [
  {
   "cell_type": "code",
   "execution_count": null,
   "metadata": {},
   "outputs": [],
   "source": [
    "# imports packages\n",
    "from pytube import YouTube #Adicionar o modulo pytube, pip install pytube\n",
    "import time\n",
    "import os\n",
    "import clipboard #Adicinar o modulo clipboard, pip intall clipboard\n",
    "# Variaveis de controle\n",
    "sclipboarValue = \"\"\n",
    "sURL = \"\"\n",
    "while True:\n",
    "    time.sleep(10)\n",
    "    if sclipboarValue == \"#copia esse texto para finalizar loop\": #copia esse texto para finalizar loop\n",
    "        break\n",
    "    sclipboarValue = clipboard.paste()\n",
    "    if sURL != sclipboarValue and  sclipboarValue[0:5] == \"https\" :\n",
    "        sURL = sclipboarValue #Verificar link no cpia e cola \n",
    "        yt = YouTube(str(sURL)) #carregar url no gatilho\n",
    "        video = yt.streams.filter(only_audio=True).first() #extrair audio\n",
    "        destination = \"C:\\\\Users\\\\Desktop\\\\Musicas\\\\\" #local salva musica\n",
    "        out_file = video.download(output_path=destination) #titulo da musica\n",
    "        #salvar\n",
    "        base, ext = os.path.splitext(out_file)\n",
    "        new_file = base + '.mp3'\n",
    "        os.rename(out_file, new_file)\n",
    "        print(sURL)\n",
    "        print(yt.title + \" download realizado com sucesso!!\")\n",
    "        \n",
    "\n",
    "print(\"loop finalizado !!\")"
   ]
  }
 ],
 "metadata": {
  "kernelspec": {
   "display_name": "Python 3 (ipykernel)",
   "language": "python",
   "name": "python3"
  },
  "language_info": {
   "codemirror_mode": {
    "name": "ipython",
    "version": 3
   },
   "file_extension": ".py",
   "mimetype": "text/x-python",
   "name": "python",
   "nbconvert_exporter": "python",
   "pygments_lexer": "ipython3",
   "version": "3.12.1"
  }
 },
 "nbformat": 4,
 "nbformat_minor": 2
}
